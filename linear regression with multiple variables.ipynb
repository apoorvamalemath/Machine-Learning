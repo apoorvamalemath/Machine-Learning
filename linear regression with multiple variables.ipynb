{
 "cells": [
  {
   "cell_type": "markdown",
   "metadata": {},
   "source": [
    "Linear Regression with multiple variables\n",
    "\n",
    "\n",
    "\n",
    "We will implement a linear regression model to predict housing prices. Here we have several features for each training data. \n",
    "The file ex1data2.txt contains a training set of housing prices in Portland, Oregon. The first column is the size of the house (in square feet), the second column is the number of bedrooms, and the third column is the price of the house.\n",
    "\n",
    "\n",
    "Feature normalization\n",
    "Because house sizes are about 1000 times the number of bedrooms, we need to perform feature scaling to ensure that gradient descent converges in a reasonable amount of time"
   ]
  },
  {
   "cell_type": "code",
   "execution_count": 2,
   "metadata": {},
   "outputs": [
    {
     "data": {
      "text/html": [
       "<div>\n",
       "<style scoped>\n",
       "    .dataframe tbody tr th:only-of-type {\n",
       "        vertical-align: middle;\n",
       "    }\n",
       "\n",
       "    .dataframe tbody tr th {\n",
       "        vertical-align: top;\n",
       "    }\n",
       "\n",
       "    .dataframe thead th {\n",
       "        text-align: right;\n",
       "    }\n",
       "</style>\n",
       "<table border=\"1\" class=\"dataframe\">\n",
       "  <thead>\n",
       "    <tr style=\"text-align: right;\">\n",
       "      <th></th>\n",
       "      <th>Size</th>\n",
       "      <th>No. Bedrooms</th>\n",
       "      <th>Price</th>\n",
       "    </tr>\n",
       "  </thead>\n",
       "  <tbody>\n",
       "    <tr>\n",
       "      <th>0</th>\n",
       "      <td>2104</td>\n",
       "      <td>3</td>\n",
       "      <td>399900</td>\n",
       "    </tr>\n",
       "    <tr>\n",
       "      <th>1</th>\n",
       "      <td>1600</td>\n",
       "      <td>3</td>\n",
       "      <td>329900</td>\n",
       "    </tr>\n",
       "    <tr>\n",
       "      <th>2</th>\n",
       "      <td>2400</td>\n",
       "      <td>3</td>\n",
       "      <td>369000</td>\n",
       "    </tr>\n",
       "    <tr>\n",
       "      <th>3</th>\n",
       "      <td>1416</td>\n",
       "      <td>2</td>\n",
       "      <td>232000</td>\n",
       "    </tr>\n",
       "    <tr>\n",
       "      <th>4</th>\n",
       "      <td>3000</td>\n",
       "      <td>4</td>\n",
       "      <td>539900</td>\n",
       "    </tr>\n",
       "  </tbody>\n",
       "</table>\n",
       "</div>"
      ],
      "text/plain": [
       "   Size  No. Bedrooms   Price\n",
       "0  2104             3  399900\n",
       "1  1600             3  329900\n",
       "2  2400             3  369000\n",
       "3  1416             2  232000\n",
       "4  3000             4  539900"
      ]
     },
     "execution_count": 2,
     "metadata": {},
     "output_type": "execute_result"
    }
   ],
   "source": [
    "# Multivariate Linear Regression \n",
    "%matplotlib inline\n",
    "import numpy as np\n",
    "import pandas as pd  \n",
    "import matplotlib.pyplot as plt\n",
    "plt.style.use('ggplot')\n",
    "\n",
    "# Take a second to appreciate how easy it is to read csv using pandas. No mess, no drama!\n",
    "data = pd.read_csv(\"E:\\\\ex1data2.txt\", header=None, names=['Size', 'No. Bedrooms', 'Price']) \n",
    "data.head()"
   ]
  },
  {
   "cell_type": "code",
   "execution_count": 3,
   "metadata": {},
   "outputs": [],
   "source": [
    "# feature normalization using built-in pandas functions \n",
    "data = (data - data.mean()) / data.std()"
   ]
  },
  {
   "cell_type": "markdown",
   "metadata": {},
   "source": [
    "Gradient descent"
   ]
  },
  {
   "cell_type": "code",
   "execution_count": 4,
   "metadata": {},
   "outputs": [],
   "source": [
    "# Setting alpha and initializing theta values to be zero.The number of theta's is always one more \n",
    "# than the # of features. This means in this case we have three theta's. However we are also obligated to \n",
    "# write the algorithm in a way to accommodate for any # of theta's\n",
    "\n",
    "alpha = 0.01 \n",
    "theta = np.zeros(3)\n",
    "theta = np.matrix(theta)\n",
    "\n",
    "# number of iterations\n",
    "iter = 1500 \n",
    "\n",
    "# A column of ones should be inserted at the beginning of the X matrix\n",
    "# DataFrame.insert(loc, column name, value)\n",
    "data.insert(0, 'One', 1)"
   ]
  },
  {
   "cell_type": "markdown",
   "metadata": {},
   "source": [
    "Out of the 4 (X.shape) columns in our dataframe, columns 2 & 3 (Size and No. Bedrooms) should be used to construct X and the last one (Price) is used to build y."
   ]
  },
  {
   "cell_type": "code",
   "execution_count": 5,
   "metadata": {},
   "outputs": [],
   "source": [
    "# .iloc() lets us select columns by index/label from 0 to length-1 of the axis)\n",
    "X = data.iloc[:, 0: data.shape[1]-1]\n",
    "X = np.matrix(X)\n",
    "y = data.iloc[:, data.shape[1]-1:data.shape[1]]\n",
    "y = np.matrix(y)"
   ]
  },
  {
   "cell_type": "code",
   "execution_count": 6,
   "metadata": {},
   "outputs": [],
   "source": [
    "m = data.shape[0]"
   ]
  },
  {
   "cell_type": "code",
   "execution_count": 7,
   "metadata": {},
   "outputs": [],
   "source": [
    "def cost(theta, X, y):\n",
    "#     print('shape of y = ', y.shape)\n",
    "#     print('shape of X = ', X.shape)\n",
    "#     print('shape of theta = ', theta.shape)\n",
    "    arr = np.power(((X * theta.T) - y), 2)\n",
    "    # we get an (m x 1) dimensional array \n",
    "    return np.sum(arr) / (2 * m)"
   ]
  },
  {
   "cell_type": "code",
   "execution_count": 8,
   "metadata": {},
   "outputs": [
    {
     "data": {
      "text/plain": [
       "0.48936170212765967"
      ]
     },
     "execution_count": 8,
     "metadata": {},
     "output_type": "execute_result"
    }
   ],
   "source": [
    "cost(theta, X, y)"
   ]
  },
  {
   "cell_type": "code",
   "execution_count": 9,
   "metadata": {},
   "outputs": [],
   "source": [
    "def gradientDecentMatP(theta, alpha, X, y):\n",
    "    theta1 = np.matrix(np.zeros(theta.shape))\n",
    "    error = (X * theta.T) - y\n",
    "    for j in range(theta.shape[1]):\n",
    "        temp = np.multiply(error, X[:,j])\n",
    "        theta1[0,j] = theta[0,j] - ((alpha / len(X)) * np.sum(temp))\n",
    "    return theta1"
   ]
  },
  {
   "cell_type": "code",
   "execution_count": 10,
   "metadata": {},
   "outputs": [
    {
     "data": {
      "text/plain": [
       "matrix([[-7.08652994e-19,  8.36796367e-03,  4.32851306e-03]])"
      ]
     },
     "execution_count": 10,
     "metadata": {},
     "output_type": "execute_result"
    }
   ],
   "source": [
    "# We run gradient descent once and use the result to check if the cost is decreasing in one iteration  \n",
    "gradientDecentMatP(theta, alpha, X, y)"
   ]
  },
  {
   "cell_type": "code",
   "execution_count": 11,
   "metadata": {},
   "outputs": [
    {
     "data": {
      "text/plain": [
       "0.4805491041076719"
      ]
     },
     "execution_count": 11,
     "metadata": {},
     "output_type": "execute_result"
    }
   ],
   "source": [
    "theta_new = gradientDecentMatP(theta, alpha, X, y)\n",
    "cost(theta_new, X, y)"
   ]
  },
  {
   "cell_type": "code",
   "execution_count": 12,
   "metadata": {},
   "outputs": [
    {
     "name": "stdout",
     "output_type": "stream",
     "text": [
      "alpha = 0.05\n",
      "[0.13256904032004457, 0.13248881991623926, 0.13241201967481836, 0.13233849351760485, 0.1322681016438542, 0.13220071025488278, 0.13213619129159312, 0.13207442218417478, 0.13201528561331713]\n",
      "alpha = 0.03\n",
      "[0.13986059016215924, 0.13962141790056626, 0.13938871202698191, 0.13916227734379866, 0.138941926277006, 0.13872747844665043, 0.13851876026925145, 0.13831560458948056, 0.13811785033864607]\n",
      "alpha = 0.01\n",
      "[0.1907921703160338, 0.189916309374886, 0.18905886281327441, 0.18821934247553765, 0.1873972743980089, 0.1865921983841233, 0.185803667592357, 0.1850312481366081, 0.1842745186986435]\n",
      "alpha = 0.1\n",
      "[0.1307207661618834, 0.13071787659326714, 0.13071523055549958, 0.13071280752396855, 0.13071058870386204, 0.1307085568843821, 0.1307066963052449, 0.13070499253443246, 0.13070343235624748]\n"
     ]
    }
   ],
   "source": [
    "# We try different values for alpha, to see how it affects the cost\n",
    "alphas = [0.05, 0.03, 0.01, 0.1]\n",
    "for alpha in alphas:\n",
    "    costs = []\n",
    "    theta = np.matrix(np.zeros(3))\n",
    "    for i in range(100):\n",
    "        costs.append(cost(theta, X, y))\n",
    "        theta = gradientDecentMatP(theta, alpha, X, y)\n",
    "    print(\"alpha =\", alpha)\n",
    "    print(costs[-10:-1])"
   ]
  }
 ],
 "metadata": {
  "kernelspec": {
   "display_name": "Python 3",
   "language": "python",
   "name": "python3"
  },
  "language_info": {
   "codemirror_mode": {
    "name": "ipython",
    "version": 3
   },
   "file_extension": ".py",
   "mimetype": "text/x-python",
   "name": "python",
   "nbconvert_exporter": "python",
   "pygments_lexer": "ipython3",
   "version": "3.6.5"
  }
 },
 "nbformat": 4,
 "nbformat_minor": 2
}
